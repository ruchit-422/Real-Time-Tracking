{
  "cells": [
    {
      "cell_type": "markdown",
      "source": [
        "**Importing necessary libraries and processing the video into frames.**"
      ],
      "metadata": {
        "id": "dcFNw8FbOiUY"
      }
    },
    {
      "cell_type": "code",
      "execution_count": 1,
      "metadata": {
        "colab": {
          "base_uri": "https://localhost:8080/"
        },
        "id": "xLWrGKgtR1Tw",
        "outputId": "fe9f2b86-4fa0-422c-92fc-f18d9a92db5e"
      },
      "outputs": [
        {
          "output_type": "stream",
          "name": "stdout",
          "text": [
            "Looking in indexes: https://pypi.org/simple, https://us-python.pkg.dev/colab-wheels/public/simple/\n",
            "Requirement already satisfied: opencv-python in /usr/local/lib/python3.7/dist-packages (4.6.0.66)\n",
            "Requirement already satisfied: numpy>=1.14.5 in /usr/local/lib/python3.7/dist-packages (from opencv-python) (1.21.6)\n"
          ]
        }
      ],
      "source": [
        "!pip install opencv-python"
      ]
    },
    {
      "cell_type": "code",
      "execution_count": 2,
      "metadata": {
        "id": "GpNMWkosU_X8"
      },
      "outputs": [],
      "source": [
        "# taken from this StackOverflow answer: https://stackoverflow.com/a/39225039\n",
        "import requests\n",
        "\n",
        "def download_file_from_google_drive(id, destination):\n",
        "    URL = \"https://docs.google.com/uc?export=download\"\n",
        "\n",
        "    session = requests.Session()\n",
        "\n",
        "    response = session.get(URL, params = { 'id' : id }, stream = True)\n",
        "    token = get_confirm_token(response)\n",
        "\n",
        "    if token:\n",
        "        params = { 'id' : id, 'confirm' : token }\n",
        "        response = session.get(URL, params = params, stream = True)\n",
        "\n",
        "    save_response_content(response, destination)    \n",
        "\n",
        "def get_confirm_token(response):\n",
        "    for key, value in response.cookies.items():\n",
        "        if key.startswith('download_warning'):\n",
        "            return value\n",
        "\n",
        "    return None\n",
        "\n",
        "def save_response_content(response, destination):\n",
        "    CHUNK_SIZE = 32768\n",
        "\n",
        "    with open(destination, \"wb\") as f:\n",
        "        for chunk in response.iter_content(CHUNK_SIZE):\n",
        "            if chunk: # filter out keep-alive new chunks\n",
        "                f.write(chunk)"
      ]
    },
    {
      "cell_type": "code",
      "execution_count": 3,
      "metadata": {
        "id": "oT-baUixVKwd"
      },
      "outputs": [],
      "source": [
        "# Downloading video dataset\n",
        "file_id = '1x6aUwQPBkNBOdOBRUOPlv23lrAKdgtam'\n",
        "destination = '/content/dataset.mp4'\n",
        "download_file_from_google_drive(file_id, destination)\n",
        "\n",
        "# !unzip -q dataset.zip\n",
        "# !rm -rf dataset.zip"
      ]
    },
    {
      "cell_type": "code",
      "execution_count": 4,
      "metadata": {
        "id": "OIR9nIeuZdrw"
      },
      "outputs": [],
      "source": [
        "#import shutil\n",
        "\n",
        "\n",
        "#shutil.rmtree('/content/data', ignore_errors=True)\n",
        "#shutil.rmtree('/content/frames_for_comparison', ignore_errors=True)"
      ]
    },
    {
      "cell_type": "markdown",
      "source": [
        "**Converting video to frames**"
      ],
      "metadata": {
        "id": "3O_vCw8VHoLR"
      }
    },
    {
      "cell_type": "code",
      "execution_count": 5,
      "metadata": {
        "id": "rLpaUVq8RzTx",
        "colab": {
          "base_uri": "https://localhost:8080/"
        },
        "outputId": "140003b8-0a47-4e75-9c29-1a2a4f1b3aa1"
      },
      "outputs": [
        {
          "output_type": "stream",
          "name": "stdout",
          "text": [
            "721\n"
          ]
        }
      ],
      "source": [
        "import cv2\n",
        "import os\n",
        "import glob\n",
        "import time\n",
        "\n",
        "vid = cv2.VideoCapture(\"/content/dataset.mp4\")\n",
        "\n",
        "currentframe=1\n",
        "count = 0\n",
        "if not os.path.exists('data'):\n",
        "    os.makedirs('data')\n",
        "\n",
        "image = 1\n",
        "\n",
        "while(True):\n",
        "    success, frame = vid.read()\n",
        "    count += 1\n",
        "\n",
        "    # increase the number after % sign to reduce the number of samples/frames taken from the video.\n",
        "    if count%10 == 0: \n",
        "      gray_image = cv2.cvtColor(frame, cv2.COLOR_BGR2GRAY)\n",
        "      gray_image = gray_image[123:940, 239:2155] \n",
        "      cv2.imwrite('./data/frame' + str(image) + '.jpg', gray_image)\n",
        "      image += 1\n",
        "\n",
        "    if count > 720:\n",
        "        break\n",
        "\n",
        "    currentframe += 1\n",
        "\n",
        "cv2.destroyAllWindows()\n",
        "print(count)"
      ]
    },
    {
      "cell_type": "code",
      "source": [
        "print(count)"
      ],
      "metadata": {
        "colab": {
          "base_uri": "https://localhost:8080/"
        },
        "id": "YiGFmUpd3uib",
        "outputId": "26340643-52d6-4473-8410-c8cf9ae1a4e8"
      },
      "execution_count": 6,
      "outputs": [
        {
          "output_type": "stream",
          "name": "stdout",
          "text": [
            "721\n"
          ]
        }
      ]
    },
    {
      "cell_type": "markdown",
      "source": [
        "**Algorithm for GMM**"
      ],
      "metadata": {
        "id": "3ACc0IPSPt7G"
      }
    },
    {
      "cell_type": "markdown",
      "source": [
        "Calculating the likelihood of each observation xᵢ using the estimated parameters. That is the probability density (pdf) of our data using the estimated values for the mean and variance."
      ],
      "metadata": {
        "id": "Yz3s-IRxq0an"
      }
    },
    {
      "cell_type": "markdown",
      "source": [
        "![image.png](data:image/png;base64,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)"
      ],
      "metadata": {
        "id": "J1pqPLttrARA"
      }
    },
    {
      "cell_type": "code",
      "source": [
        "import numpy as np\n",
        "def pdf_value(x1,u1,sigma1):\n",
        "  p=((x1-u1)*(x1-u1))/(2*sigma1*sigma1)\n",
        "  t = (1/np.sqrt((2*3.14*sigma1*sigma1)))*(np.exp(-p))\n",
        "  return t"
      ],
      "metadata": {
        "id": "_MhImko7qu0c"
      },
      "execution_count": 7,
      "outputs": []
    },
    {
      "cell_type": "markdown",
      "source": [
        "Implementation of Gussian Mixture Model from scratch in Python. See the report for more details. Or you can refer the website https://towardsdatascience.com/how-to-code-gaussian-mixture-models-from-scratch-in-python-9e7975df5252"
      ],
      "metadata": {
        "id": "e6_6_QwDrHGe"
      }
    },
    {
      "cell_type": "markdown",
      "source": [
        "![image.png](data:image/png;base64,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)"
      ],
      "metadata": {
        "id": "Z3Dloo7ArUjL"
      }
    },
    {
      "cell_type": "markdown",
      "source": [
        "![image.png](data:image/png;base64,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)"
      ],
      "metadata": {
        "id": "FJ_rS3vIrXbU"
      }
    },
    {
      "cell_type": "code",
      "execution_count": 8,
      "metadata": {
        "id": "zTPXd_kmPqBw"
      },
      "outputs": [],
      "source": [
        "def Gaussian_Mixture(x,u1,sigma1,u2,sigma2,w1,w2):\n",
        "  mean1=u1\n",
        "  mean2=u2\n",
        "  weight1=w1\n",
        "  weight2=w2\n",
        "  SD1=sigma1\n",
        "  SD2=sigma2\n",
        "  count=0\n",
        "  while (True):\n",
        "    m1=mean1\n",
        "    m2=mean2\n",
        "    we1=weight1\n",
        "    we2=weight2\n",
        "    si1=SD1\n",
        "    si2=SD2\n",
        "    count=count+1\n",
        "\n",
        "    # print(mean1,SD1,mean2,SD2,weight1,weight2)\n",
        "\n",
        "    prob_array_cluster1=[]  # pdf\n",
        "    prob_array_cluster2=[]\n",
        "    for i in range(len(x)):\n",
        "      prob_array_cluster1.append(pdf_value(x[i],mean1,SD1)) # calculating the pdf values coorsponding to each entry in x\n",
        "      prob_array_cluster2.append(pdf_value(x[i],mean2,SD2))\n",
        "\n",
        "    prob_element_in_cluster1=[] #  b_k\n",
        "    prob_element_in_cluster2=[]\n",
        "    for i in range(len(x)):\n",
        "      # calculating bayers probability of x[i] belonging to both the clusters\n",
        "      prob_element_in_cluster1.append((prob_array_cluster1[i]*weight1)/(prob_array_cluster1[i]*weight1+prob_array_cluster2[i]*weight2))\n",
        "      prob_element_in_cluster2.append((prob_array_cluster2[i]*weight2)/(prob_array_cluster1[i]*weight1+prob_array_cluster2[i]*weight2))\n",
        "    \n",
        "    weight1=sum(prob_element_in_cluster1)/2  # updating the weights\n",
        "    weight2=sum(prob_element_in_cluster2)/2\n",
        "\n",
        "    d1=0  # sigma\n",
        "    d2=0\n",
        "    for i in range(len(x)):\n",
        "      d1 = d1+prob_element_in_cluster1[i]*(x[i]-mean1)*(x[i]-mean1)\n",
        "      d2 = d2+prob_element_in_cluster2[i]*(x[i]-mean2)*(x[i]-mean2)\n",
        "    SD1=np.sqrt(d1/(2*weight1)) # upadting the varience/standard deviation\n",
        "    SD2=np.sqrt(d2/(2*weight2))\n",
        "\n",
        "    t1=0   # u_k\n",
        "    t2=0\n",
        "    for i in range(len(x)):\n",
        "      t1 = t1+prob_element_in_cluster1[i]*x[i]\n",
        "      t2 = t2+prob_element_in_cluster2[i]*x[i]\n",
        "    mean1=t1/(2*weight1)\n",
        "    mean2=t2/(2*weight2) # updating the mean values\n",
        "    # convergence condition\n",
        "    if (abs(mean1-m1)<0.1 or abs(mean2-m2)<0.1 or mean1>10000000 or mean2>10000000 or weight1>10000000 or weight1>10000000 or SD1>1000000 or SD2>10000000 or count>15):\n",
        "      if count>15:\n",
        "        return (sum(x)/len(x)) # if the algorithm doesnt converge, mean is returned as the output\n",
        "        # return 255\n",
        "      \n",
        "      elif weight1>weight2:\n",
        "        # print(mean1)\n",
        "        #print(mean1, mean2)\n",
        "        return mean1\n",
        "        \n",
        "      else:\n",
        "        # print(mean2)\n",
        "        #print(mean1, mean2)\n",
        "        return mean2"
      ]
    },
    {
      "cell_type": "code",
      "execution_count": 9,
      "metadata": {
        "id": "Yf9Y025heoNB"
      },
      "outputs": [],
      "source": [
        "import fnmatch\n",
        "array = []\n",
        "IMAGE_DIR = '/content/data'\n",
        "\n",
        "image_names = []\n",
        "image_dictionary = []\n",
        "\n",
        "image_1D = []\n",
        "for root, dirnames, filenames in os.walk(IMAGE_DIR):\n",
        "    for filename in fnmatch.filter(filenames, \"*.*\"):\n",
        "        image_names.append(os.path.join(root, filename))\n",
        "\n",
        "for idx,image_name in enumerate(image_names):\n",
        "    img = cv2.imread(image_name, cv2.IMREAD_GRAYSCALE).astype(np.float64)\n",
        "    # img.reshape()\n",
        "    img = cv2.resize(img, (240,108), interpolation = cv2.INTER_AREA)\n",
        "    array.append(img)\n"
      ]
    },
    {
      "cell_type": "markdown",
      "source": [
        "**Background Extraction**"
      ],
      "metadata": {
        "id": "SuqlCoXpJeVA"
      }
    },
    {
      "cell_type": "markdown",
      "source": [
        "Running the GMM for all the frames and storing all the backgrounds in an array.\n"
      ],
      "metadata": {
        "id": "Dz72t6_KP7HP"
      }
    },
    {
      "cell_type": "code",
      "execution_count": 10,
      "metadata": {
        "id": "ZRM8uChhhCZ3",
        "colab": {
          "base_uri": "https://localhost:8080/"
        },
        "outputId": "8f40ad00-b0d7-4ea6-a168-59a919eb31c6"
      },
      "outputs": [
        {
          "output_type": "stream",
          "name": "stderr",
          "text": [
            "/usr/local/lib/python3.7/dist-packages/ipykernel_launcher.py:30: RuntimeWarning: invalid value encountered in double_scalars\n",
            "/usr/local/lib/python3.7/dist-packages/ipykernel_launcher.py:31: RuntimeWarning: invalid value encountered in double_scalars\n"
          ]
        }
      ],
      "source": [
        "\n",
        "count = 0\n",
        "# final_array = np.zeros((240,108))\n",
        "final_array = np.zeros((108,240))\n",
        "\n",
        "\n",
        "for i in range(len(array[0])): #rows\n",
        "  for j in range(len(array[0][0])): #cols\n",
        "    x = []\n",
        "    for e in array: #frames\n",
        "      x.append(e[i][j])\n",
        "    summ = sum(x)\n",
        "    avg = summ/len(x)\n",
        "    xx = (Gaussian_Mixture(x,(avg),3,(avg*2),4,1/2,1/2)) # appling gaussian mixture to each pixel location values across all the frames to generate the background \n",
        "    final_array[i][j] = xx; # Extracted background\n",
        "# print(final_array)"
      ]
    },
    {
      "cell_type": "markdown",
      "source": [
        "**Plotting Background**"
      ],
      "metadata": {
        "id": "r_kxbjmWJ_EE"
      }
    },
    {
      "cell_type": "code",
      "execution_count": 11,
      "metadata": {
        "colab": {
          "base_uri": "https://localhost:8080/",
          "height": 232
        },
        "id": "w5tVsGVanQPU",
        "outputId": "75c7e097-b518-4736-c93a-a8992cbf0bdb"
      },
      "outputs": [
        {
          "output_type": "execute_result",
          "data": {
            "text/plain": [
              "<matplotlib.image.AxesImage at 0x7f6b44097ed0>"
            ]
          },
          "metadata": {},
          "execution_count": 11
        },
        {
          "output_type": "display_data",
          "data": {
            "text/plain": [
              "<Figure size 432x288 with 1 Axes>"
            ],
            "image/png": "[encoded data removed]"
          },
          "metadata": {
            "needs_background": "light"
          }
        }
      ],
      "source": [
        "import matplotlib.pyplot as plt \n",
        "fig,axarr = plt.subplots()\n",
        "axarr.set_title(\"Background\")\n",
        "axarr.imshow(final_array, cmap=plt.cm.gray)"
      ]
    },
    {
      "cell_type": "markdown",
      "source": [
        "**Generating Frames with only foreground(Object Detection)**"
      ],
      "metadata": {
        "id": "AFDC4ptrKDoo"
      }
    },
    {
      "cell_type": "code",
      "source": [
        "image=cv2.imread('/content/data/frame6.jpg')\n",
        "image2 = cv2.resize(image, (240,108),\n",
        "               interpolation = cv2.INTER_NEAREST)\n",
        "gray_image = cv2.cvtColor(image2, cv2.COLOR_BGR2GRAY)\n",
        "dim1 = gray_image.shape\n",
        "dim = final_array.shape\n",
        "gray_image = np.asarray(gray_image, np.float64)\n",
        "final_array = np.asarray(final_array, np.float64)\n",
        "image_final = cv2.absdiff(gray_image, final_array)"
      ],
      "metadata": {
        "id": "0eleVsXA4oDi"
      },
      "execution_count": 12,
      "outputs": []
    },
    {
      "cell_type": "code",
      "source": [
        "from google.colab.patches import cv2_imshow\n",
        "\n",
        "if not os.path.exists('answer'):\n",
        "    os.makedirs('answer')\n",
        "    \n",
        "img_array = []\n",
        "\n",
        "for p in range(1,len(array)+1):\n",
        "  img1 = cv2.imread('/content/data/frame' + str(p) + '.jpg')\n",
        "  gray_image = cv2.cvtColor(img1, cv2.COLOR_BGR2GRAY)\n",
        "  # print((np.shape(gray_image)))\n",
        "  gray_image = cv2.resize(gray_image, (240,108), interpolation = cv2.INTER_AREA)\n",
        "\n",
        "  # subtracting the background from the original frames  \n",
        "  m = np.zeros((108,240))\n",
        "  for i in range(len(final_array)):\n",
        "    for j in range(len(final_array[0])):\n",
        "      diff = final_array[i][j] - gray_image[i][j]\n",
        "      if (abs(diff)>30): #threshold to check similarity betwwen two pixels for pixel classification as either foreground or background\n",
        "        m[i][j]= gray_image[i][j]\n",
        "      else:\n",
        "        m[i][j] = 100\n",
        "  # print(m)\n",
        "  cv2.imwrite('./answer/frame' + str(p) + '.jpg', m)\n",
        "  height, width = m.shape\n",
        "  size = (width,height)\n",
        "  img_array.append(m)\n",
        "  # cv2_imshow(m)\n",
        "   \n",
        "\n"
      ],
      "metadata": {
        "id": "pIU6rD33W6Oo"
      },
      "execution_count": 13,
      "outputs": []
    },
    {
      "cell_type": "markdown",
      "source": [
        "**Generating Video with only foreground(Object Detection)**"
      ],
      "metadata": {
        "id": "W6DNliIdKhMy"
      }
    },
    {
      "cell_type": "code",
      "source": [
        "import natsort \n",
        "import cv2\n",
        "import numpy as np\n",
        "import glob\n",
        "\n",
        "# sorting foreground frames for video generation\n",
        "\n",
        "img_array = []\n",
        "for filename in glob.glob('/content/answer/*.jpg'):\n",
        "\n",
        "    img_array.append(filename)\n",
        "sorted_arr = natsort.natsorted(img_array)"
      ],
      "metadata": {
        "id": "9Wx6Dtfeg5bV"
      },
      "execution_count": 14,
      "outputs": []
    },
    {
      "cell_type": "code",
      "source": [
        "out = cv2.VideoWriter('project.avi',cv2.VideoWriter_fourcc(*'DIVX'), 15, size)\n",
        "for i in range(len(sorted_arr)):\n",
        "  out.write(cv2.imread(sorted_arr[i]))\n",
        "out.release()"
      ],
      "metadata": {
        "id": "U0HD5B8ZmHhF"
      },
      "execution_count": 15,
      "outputs": []
    },
    {
      "cell_type": "markdown",
      "source": [
        "Plotting the Orignal frame and its coorsponding foreground"
      ],
      "metadata": {
        "id": "tnEmBVdQK2Z_"
      }
    },
    {
      "cell_type": "code",
      "source": [
        "cv2_imshow(cv2.imread('/content/answer/frame27.jpg')) # Output"
      ],
      "metadata": {
        "colab": {
          "base_uri": "https://localhost:8080/",
          "height": 125
        },
        "id": "CW1GMjfamY_K",
        "outputId": "97d3d40f-b5fd-43dd-b80b-1592e9a02356"
      },
      "execution_count": 16,
      "outputs": [
        {
          "output_type": "display_data",
          "data": {
            "text/plain": [
              "<PIL.Image.Image image mode=RGB size=240x108 at 0x7F6B4401AC90>"
            ],
            "image/png": "[encoded data removed]"
          },
          "metadata": {}
        }
      ]
    },
    {
      "cell_type": "code",
      "source": [
        "img = cv2.imread('/content/data/frame27.jpg')  # Raw Frame\n",
        "img = cv2.resize(img, (240,108))\n",
        "cv2_imshow(img)"
      ],
      "metadata": {
        "colab": {
          "base_uri": "https://localhost:8080/",
          "height": 125
        },
        "id": "gN3s8prbrHq6",
        "outputId": "e85e3853-54b2-43c8-92ad-d97c6dbc8038"
      },
      "execution_count": 17,
      "outputs": [
        {
          "output_type": "display_data",
          "data": {
            "text/plain": [
              "<PIL.Image.Image image mode=RGB size=240x108 at 0x7F6B43AB5D50>"
            ],
            "image/png": "[encoded data removed]"
          },
          "metadata": {}
        }
      ]
    },
    {
      "cell_type": "markdown",
      "source": [
        "**Measuring the Accuracy wrt to a built-in function**"
      ],
      "metadata": {
        "id": "Lrpmx06y0U00"
      }
    },
    {
      "cell_type": "markdown",
      "source": [
        "The in-built function used for accuracy comparision is BackgroundSubtractorMOG2 function in OpenCV2. The metric used for comparision is MSE."
      ],
      "metadata": {
        "id": "eiGN9ijdzH4Y"
      }
    },
    {
      "cell_type": "code",
      "source": [
        "from google.colab.patches import cv2_imshow\n",
        "\n",
        "if not os.path.exists('frames_for_comparison'):\n",
        "    os.makedirs('frames_for_comparison')\n",
        "    \n",
        "img_array = []\n",
        "\n",
        "for p in range(1,len(array)+1):\n",
        "  img1 = cv2.imread('/content/data/frame' + str(p) + '.jpg')\n",
        "  gray_image = cv2.cvtColor(img1, cv2.COLOR_BGR2GRAY)\n",
        "  # print((np.shape(gray_image)))\n",
        "  gray_image = cv2.resize(gray_image, (240,108), interpolation = cv2.INTER_AREA)\n",
        "\n",
        "\n",
        "  m = np.zeros((108,240))\n",
        "  for i in range(len(final_array)):\n",
        "    for j in range(len(final_array[0])):\n",
        "      diff = final_array[i][j] - gray_image[i][j] # # subtracting the background from the original frames to generate only black and white foreground for comparison with built-in function\n",
        "      if (abs(diff)>30):\n",
        "        m[i][j]= 255\n",
        "      else:\n",
        "        m[i][j] = 0\n",
        "  # print(m)\n",
        "  cv2.imwrite('./frames_for_comparison/frame' + str(p) + '.jpg', m)\n",
        "  height, width = m.shape\n",
        "  size = (width,height)\n",
        "  img_array.append(m)\n",
        "  # cv2_imshow(m)"
      ],
      "metadata": {
        "id": "lEMcG7IlziDq"
      },
      "execution_count": 18,
      "outputs": []
    },
    {
      "cell_type": "markdown",
      "source": [
        "Plotting the Output foreground of both the above algorithm and in-built function and measuring accuracy via RMSE metric."
      ],
      "metadata": {
        "id": "EX6B5zf7Lnaj"
      }
    },
    {
      "cell_type": "code",
      "source": [
        "import cv2\n",
        "import os\n",
        "import math\n",
        "import glob\n",
        "import time\n",
        "from skimage.metrics import mean_squared_error\n",
        "import csv \n",
        "vid = cv2.VideoCapture(\"/content/dataset.mp4\")\n",
        "fgbg = cv2.createBackgroundSubtractorMOG2()\n",
        "\n",
        "currentframe=1\n",
        "count = 0\n",
        "\n",
        "image = 1\n",
        "\n",
        "from PIL import Image\n",
        "\n",
        "\n",
        "RMSE=[]\n",
        "while(True):\n",
        "    success, frame = vid.read()\n",
        "    count += 1\n",
        "\n",
        "    if count%10 == 0:\n",
        "      gray_image = cv2.cvtColor(frame, cv2.COLOR_BGR2GRAY)\n",
        "      gray_image = gray_image[123:940, 239:2155]\n",
        "      fgmask = fgbg.apply(gray_image) # in-built function for foreground generation\n",
        "      gray_image = cv2.resize(gray_image, (240,108))\n",
        "      fgmask = cv2.resize(fgmask, (240,108))\n",
        "      our_image = cv2.imread('/content/frames_for_comparison/frame' + str(image) + '.jpg')\n",
        "      our_image = cv2.cvtColor(our_image, cv2.COLOR_BGR2GRAY)\n",
        "      print('our foreground')\n",
        "      cv2_imshow(our_image)\n",
        "      m = np.zeros((108,240))\n",
        "\n",
        "      for i in range(len(final_array)):\n",
        "        for j in range(len(final_array[0])):\n",
        "          diff = fgmask[i][j]\n",
        "          if (diff>10):\n",
        "            m[i][j]= 255\n",
        "          else:\n",
        "            m[i][j] = 0\n",
        "\n",
        "      print('in-built function foreground')\n",
        "      cv2_imshow(m)\n",
        "      dim1 = our_image.shape\n",
        "      dim2 = gray_image.shape\n",
        "      RMSE.append(math.sqrt(mean_squared_error(our_image, m))) # comparing both the generated foregrounds\n",
        "      image += 1\n",
        "\n",
        "    if count > 720:\n",
        "        break\n",
        "\n",
        "    currentframe += 1\n",
        "\n",
        "a=RMSE[21:len(RMSE)-3] # storing the foregrounds in an array\n",
        "cv2.destroyAllWindows()"
      ],
      "metadata": {
        "colab": {
          "base_uri": "https://localhost:8080/",
          "height": 1000
        },
        "id": "hDfysS990Ig1",
        "outputId": "b370e7dc-4d64-444f-f273-8901a600c1f2"
      },
      "execution_count": 19,
      "outputs": [
        {
          "output_type": "stream",
          "name": "stdout",
          "text": [
            "our foreground\n"
          ]
        },
        {
          "output_type": "display_data",
          "data": {
            "text/plain": [
              "<PIL.Image.Image image mode=L size=240x108 at 0x7F6B3F85B610>"
            ],
            "image/png": "[encoded data removed]"
          },
          "metadata": {}
        },
        {
          "output_type": "stream",
          "name": "stdout",
          "text": [
            "in-built function foreground\n"
          ]
        },
        {
          "output_type": "display_data",
          "data": {
            "text/plain": [
              "<PIL.Image.Image image mode=L size=240x108 at 0x7F6B417EE050>"
            ],
            "image/png": "[encoded data removed]"
          },
          "metadata": {}
        },
        {
          "output_type": "stream",
          "name": "stdout",
          "text": [
            "our foreground\n"
          ]
        },
        {
          "output_type": "display_data",
          "data": {
            "text/plain": [
              "<PIL.Image.Image image mode=L size=240x108 at 0x7F6B44057D10>"
            ],
            "image/png": "[encoded data removed]"
          },
          "metadata": {}
        },
        {
          "output_type": "stream",
          "name": "stdout",
          "text": [
            "in-built function foreground\n"
          ]
        },
        {
          "output_type": "display_data",
          "data": {
            "text/plain": [
              "<PIL.Image.Image image mode=L size=240x108 at 0x7F6B417EE050>"
            ],
            "image/png": "[encoded data removed]"
          },
          "metadata": {}
        },
        {
          "output_type": "stream",
          "name": "stdout",
          "text": [
            "our foreground\n"
          ]
        },
        {
          "output_type": "display_data",
          "data": {
            "text/plain": [
              "<PIL.Image.Image image mode=L size=240x108 at 0x7F6B44057D10>"
            ],
            "image/png": "[encoded data removed]"
          },
          "metadata": {}
        },
        {
          "output_type": "stream",
          "name": "stdout",
          "text": [
            "in-built function foreground\n"
          ]
        },
        {
          "output_type": "display_data",
          "data": {
            "text/plain": [
              "<PIL.Image.Image image mode=L size=240x108 at 0x7F6B3E77F610>"
            ],
            "image/png": "[encoded data removed]"
          },
          "metadata": {}
        },
        {
          "output_type": "stream",
          "name": "stdout",
          "text": [
            "our foreground\n"
          ]
        },
        {
          "output_type": "display_data",
          "data": {
            "text/plain": [
              "<PIL.Image.Image image mode=L size=240x108 at 0x7F6B44057D10>"
            ],
            "image/png": "[encoded data removed]"
          },
          "metadata": {}
        },
        {
          "output_type": "stream",
          "name": "stdout",
          "text": [
            "in-built function foreground\n"
          ]
        },
        {
          "output_type": "display_data",
          "data": {
            "text/plain": [
              "<PIL.Image.Image image mode=L size=240x108 at 0x7F6B3E778610>"
            ],
            "image/png": "[encoded data removed]"
          },
          "metadata": {}
        },
        {
          "output_type": "stream",
          "name": "stdout",
          "text": [
            "our foreground\n"
          ]
        },
        {
          "output_type": "display_data",
          "data": {
            "text/plain": [
              "<PIL.Image.Image image mode=L size=240x108 at 0x7F6B3E77F610>"
            ],
            "image/png": "[encoded data removed]"
          },
          "metadata": {}
        },
        {
          "output_type": "stream",
          "name": "stdout",
          "text": [
            "in-built function foreground\n"
          ]
        },
        {
          "output_type": "display_data",
          "data": {
            "text/plain": [
              "<PIL.Image.Image image mode=L size=240x108 at 0x7F6B43B46150>"
            ],
            "image/png": "[encoded data removed]"
          },
          "metadata": {}
        },
        {
          "output_type": "stream",
          "name": "stdout",
          "text": [
            "our foreground\n"
          ]
        },
        {
          "output_type": "display_data",
          "data": {
            "text/plain": [
              "<PIL.Image.Image image mode=L size=240x108 at 0x7F6B43AB87D0>"
            ],
            "image/png": "[encoded data removed]"
          },
          "metadata": {}
        },
        {
          "output_type": "stream",
          "name": "stdout",
          "text": [
            "in-built function foreground\n"
          ]
        },
        {
          "output_type": "display_data",
          "data": {
            "text/plain": [
              "<PIL.Image.Image image mode=L size=240x108 at 0x7F6B43AB8790>"
            ],
            "image/png": "[encoded data removed]"
          },
          "metadata": {}
        },
        {
          "output_type": "stream",
          "name": "stdout",
          "text": [
            "our foreground\n"
          ]
        },
        {
          "output_type": "display_data",
          "data": {
            "text/plain": [
              "<PIL.Image.Image image mode=L size=240x108 at 0x7F6B3F85B610>"
            ],
            "image/png": "[encoded data removed]"
          },
          "metadata": {}
        },
        {
          "output_type": "stream",
          "name": "stdout",
          "text": [
            "in-built function foreground\n"
          ]
        },
        {
          "output_type": "display_data",
          "data": {
            "text/plain": [
              "<PIL.Image.Image image mode=L size=240x108 at 0x7F6B44057D10>"
            ],
            "image/png": "[encoded data removed]"
          },
          "metadata": {}
        },
        {
          "output_type": "stream",
          "name": "stdout",
          "text": [
            "our foreground\n"
          ]
        },
        {
          "output_type": "display_data",
          "data": {
            "text/plain": [
              "<PIL.Image.Image image mode=L size=240x108 at 0x7F6B3E7781D0>"
            ],
            "image/png": "[encoded data removed]"
          },
          "metadata": {}
        },
        {
          "output_type": "stream",
          "name": "stdout",
          "text": [
            "in-built function foreground\n"
          ]
        },
        {
          "output_type": "display_data",
          "data": {
            "text/plain": [
              "<PIL.Image.Image image mode=L size=240x108 at 0x7F6B3E778610>"
            ],
            "image/png": "[encoded data removed]"
          },
          "metadata": {}
        },
        {
          "output_type": "stream",
          "name": "stdout",
          "text": [
            "our foreground\n"
          ]
        },
        {
          "output_type": "display_data",
          "data": {
            "text/plain": [
              "<PIL.Image.Image image mode=L size=240x108 at 0x7F6B3F8480D0>"
            ],
            "image/png": "[encoded data removed]"
          },
          "metadata": {}
        },
        {
          "output_type": "stream",
          "name": "stdout",
          "text": [
            "in-built function foreground\n"
          ]
        },
        {
          "output_type": "display_data",
          "data": {
            "text/plain": [
              "<PIL.Image.Image image mode=L size=240x108 at 0x7F6B44057D10>"
            ],
            "image/png": "[encoded data removed]"
          },
          "metadata": {}
        },
        {
          "output_type": "stream",
          "name": "stdout",
          "text": [
            "our foreground\n"
          ]
        },
        {
          "output_type": "display_data",
          "data": {
            "text/plain": [
              "<PIL.Image.Image image mode=L size=240x108 at 0x7F6B43B46150>"
            ],
            "image/png": "[encoded data removed]"
          },
          "metadata": {}
        },
        {
          "output_type": "stream",
          "name": "stdout",
          "text": [
            "in-built function foreground\n"
          ]
        },
        {
          "output_type": "display_data",
          "data": {
            "text/plain": [
              "<PIL.Image.Image image mode=L size=240x108 at 0x7F6B43AB8810>"
            ],
            "image/png": "[encoded data removed]"
          },
          "metadata": {}
        },
        {
          "output_type": "stream",
          "name": "stdout",
          "text": [
            "our foreground\n"
          ]
        },
        {
          "output_type": "display_data",
          "data": {
            "text/plain": [
              "<PIL.Image.Image image mode=L size=240x108 at 0x7F6B3F84D750>"
            ],
            "image/png": "[encoded data removed]"
          },
          "metadata": {}
        },
        {
          "output_type": "stream",
          "name": "stdout",
          "text": [
            "in-built function foreground\n"
          ]
        },
        {
          "output_type": "display_data",
          "data": {
            "text/plain": [
              "<PIL.Image.Image image mode=L size=240x108 at 0x7F6B417EE050>"
            ],
            "image/png": "[encoded data removed]"
          },
          "metadata": {}
        },
        {
          "output_type": "stream",
          "name": "stdout",
          "text": [
            "our foreground\n"
          ]
        },
        {
          "output_type": "display_data",
          "data": {
            "text/plain": [
              "<PIL.Image.Image image mode=L size=240x108 at 0x7F6B3EED57D0>"
            ],
            "image/png": "[encoded data removed]"
          },
          "metadata": {}
        },
        {
          "output_type": "stream",
          "name": "stdout",
          "text": [
            "in-built function foreground\n"
          ]
        },
        {
          "output_type": "display_data",
          "data": {
            "text/plain": [
              "<PIL.Image.Image image mode=L size=240x108 at 0x7F6B3DDF5D90>"
            ],
            "image/png": "[encoded data removed]"
          },
          "metadata": {}
        },
        {
          "output_type": "stream",
          "name": "stdout",
          "text": [
            "our foreground\n"
          ]
        },
        {
          "output_type": "display_data",
          "data": {
            "text/plain": [
              "<PIL.Image.Image image mode=L size=240x108 at 0x7F6B3F84D750>"
            ],
            "image/png": "[encoded data removed]"
          },
          "metadata": {}
        },
        {
          "output_type": "stream",
          "name": "stdout",
          "text": [
            "in-built function foreground\n"
          ]
        },
        {
          "output_type": "display_data",
          "data": {
            "text/plain": [
              "<PIL.Image.Image image mode=L size=240x108 at 0x7F6B3E77F610>"
            ],
            "image/png": "[encoded data removed]"
          },
          "metadata": {}
        },
        {
          "output_type": "stream",
          "name": "stdout",
          "text": [
            "our foreground\n"
          ]
        },
        {
          "output_type": "display_data",
          "data": {
            "text/plain": [
              "<PIL.Image.Image image mode=L size=240x108 at 0x7F6B44057D10>"
            ],
            "image/png": "[encoded data removed]"
          },
          "metadata": {}
        },
        {
          "output_type": "stream",
          "name": "stdout",
          "text": [
            "in-built function foreground\n"
          ]
        },
        {
          "output_type": "display_data",
          "data": {
            "text/plain": [
              "<PIL.Image.Image image mode=L size=240x108 at 0x7F6B43ACD390>"
            ],
            "image/png": "[encoded data removed]"
          },
          "metadata": {}
        },
        {
          "output_type": "stream",
          "name": "stdout",
          "text": [
            "our foreground\n"
          ]
        },
        {
          "output_type": "display_data",
          "data": {
            "text/plain": [
              "<PIL.Image.Image image mode=L size=240x108 at 0x7F6B3EEBB5D0>"
            ],
            "image/png": "[encoded data removed]"
          },
          "metadata": {}
        },
        {
          "output_type": "stream",
          "name": "stdout",
          "text": [
            "in-built function foreground\n"
          ]
        },
        {
          "output_type": "display_data",
          "data": {
            "text/plain": [
              "<PIL.Image.Image image mode=L size=240x108 at 0x7F6B3E7781D0>"
            ],
            "image/png": "[encoded data removed]"
          },
          "metadata": {}
        },
        {
          "output_type": "stream",
          "name": "stdout",
          "text": [
            "our foreground\n"
          ]
        },
        {
          "output_type": "display_data",
          "data": {
            "text/plain": [
              "<PIL.Image.Image image mode=L size=240x108 at 0x7F6B3F84D750>"
            ],
            "image/png": "[encoded data removed]"
          },
          "metadata": {}
        },
        {
          "output_type": "stream",
          "name": "stdout",
          "text": [
            "in-built function foreground\n"
          ]
        },
        {
          "output_type": "display_data",
          "data": {
            "text/plain": [
              "<PIL.Image.Image image mode=L size=240x108 at 0x7F6B43AB8810>"
            ],
            "image/png": "[encoded data removed]"
          },
          "metadata": {}
        },
        {
          "output_type": "stream",
          "name": "stdout",
          "text": [
            "our foreground\n"
          ]
        },
        {
          "output_type": "display_data",
          "data": {
            "text/plain": [
              "<PIL.Image.Image image mode=L size=240x108 at 0x7F6B3EED57D0>"
            ],
            "image/png": "[encoded data removed]"
          },
          "metadata": {}
        },
        {
          "output_type": "stream",
          "name": "stdout",
          "text": [
            "in-built function foreground\n"
          ]
        },
        {
          "output_type": "display_data",
          "data": {
            "text/plain": [
              "<PIL.Image.Image image mode=L size=240x108 at 0x7F6B3F8480D0>"
            ],
            "image/png": "[encoded data removed]"
          },
          "metadata": {}
        },
        {
          "output_type": "stream",
          "name": "stdout",
          "text": [
            "our foreground\n"
          ]
        },
        {
          "output_type": "display_data",
          "data": {
            "text/plain": [
              "<PIL.Image.Image image mode=L size=240x108 at 0x7F6B3EEE8090>"
            ],
            "image/png": "[encoded data removed]"
          },
          "metadata": {}
        },
        {
          "output_type": "stream",
          "name": "stdout",
          "text": [
            "in-built function foreground\n"
          ]
        },
        {
          "output_type": "display_data",
          "data": {
            "text/plain": [
              "<PIL.Image.Image image mode=L size=240x108 at 0x7F6B427DC610>"
            ],
            "image/png": "[encoded data removed]"
          },
          "metadata": {}
        },
        {
          "output_type": "stream",
          "name": "stdout",
          "text": [
            "our foreground\n"
          ]
        },
        {
          "output_type": "display_data",
          "data": {
            "text/plain": [
              "<PIL.Image.Image image mode=L size=240x108 at 0x7F6B3F84D750>"
            ],
            "image/png": "[encoded data removed]"
          },
          "metadata": {}
        },
        {
          "output_type": "stream",
          "name": "stdout",
          "text": [
            "in-built function foreground\n"
          ]
        },
        {
          "output_type": "display_data",
          "data": {
            "text/plain": [
              "<PIL.Image.Image image mode=L size=240x108 at 0x7F6B417EE050>"
            ],
            "image/png": "[encoded data removed]"
          },
          "metadata": {}
        },
        {
          "output_type": "stream",
          "name": "stdout",
          "text": [
            "our foreground\n"
          ]
        },
        {
          "output_type": "display_data",
          "data": {
            "text/plain": [
              "<PIL.Image.Image image mode=L size=240x108 at 0x7F6B4400A390>"
            ],
            "image/png": "[encoded data removed]"
          },
          "metadata": {}
        },
        {
          "output_type": "stream",
          "name": "stdout",
          "text": [
            "in-built function foreground\n"
          ]
        },
        {
          "output_type": "display_data",
          "data": {
            "text/plain": [
              "<PIL.Image.Image image mode=L size=240x108 at 0x7F6B3E77F610>"
            ],
            "image/png": "[encoded data removed]"
          },
          "metadata": {}
        },
        {
          "output_type": "stream",
          "name": "stdout",
          "text": [
            "our foreground\n"
          ]
        },
        {
          "output_type": "display_data",
          "data": {
            "text/plain": [
              "<PIL.Image.Image image mode=L size=240x108 at 0x7F6B43B46150>"
            ],
            "image/png": "[encoded data removed]"
          },
          "metadata": {}
        },
        {
          "output_type": "stream",
          "name": "stdout",
          "text": [
            "in-built function foreground\n"
          ]
        },
        {
          "output_type": "display_data",
          "data": {
            "text/plain": [
              "<PIL.Image.Image image mode=L size=240x108 at 0x7F6B3EEE2C90>"
            ],
            "image/png": "[encoded data removed]"
          },
          "metadata": {}
        },
        {
          "output_type": "stream",
          "name": "stdout",
          "text": [
            "our foreground\n"
          ]
        },
        {
          "output_type": "display_data",
          "data": {
            "text/plain": [
              "<PIL.Image.Image image mode=L size=240x108 at 0x7F6B3E7781D0>"
            ],
            "image/png": "[encoded data removed]"
          },
          "metadata": {}
        },
        {
          "output_type": "stream",
          "name": "stdout",
          "text": [
            "in-built function foreground\n"
          ]
        },
        {
          "output_type": "display_data",
          "data": {
            "text/plain": [
              "<PIL.Image.Image image mode=L size=240x108 at 0x7F6B3E778610>"
            ],
            "image/png": "[encoded data removed]"
          },
          "metadata": {}
        },
        {
          "output_type": "stream",
          "name": "stdout",
          "text": [
            "our foreground\n"
          ]
        },
        {
          "output_type": "display_data",
          "data": {
            "text/plain": [
              "<PIL.Image.Image image mode=L size=240x108 at 0x7F6B3EEBB5D0>"
            ],
            "image/png": "[encoded data removed]"
          },
          "metadata": {}
        },
        {
          "output_type": "stream",
          "name": "stdout",
          "text": [
            "in-built function foreground\n"
          ]
        },
        {
          "output_type": "display_data",
          "data": {
            "text/plain": [
              "<PIL.Image.Image image mode=L size=240x108 at 0x7F6B3E77F5D0>"
            ],
            "image/png": "[encoded data removed]"
          },
          "metadata": {}
        },
        {
          "output_type": "stream",
          "name": "stdout",
          "text": [
            "our foreground\n"
          ]
        },
        {
          "output_type": "display_data",
          "data": {
            "text/plain": [
              "<PIL.Image.Image image mode=L size=240x108 at 0x7F6B3EEBB5D0>"
            ],
            "image/png": "[encoded data removed]"
          },
          "metadata": {}
        },
        {
          "output_type": "stream",
          "name": "stdout",
          "text": [
            "in-built function foreground\n"
          ]
        },
        {
          "output_type": "display_data",
          "data": {
            "text/plain": [
              "<PIL.Image.Image image mode=L size=240x108 at 0x7F6B427DC610>"
            ],
            "image/png": "[encoded data removed]"
          },
          "metadata": {}
        },
        {
          "output_type": "stream",
          "name": "stdout",
          "text": [
            "our foreground\n"
          ]
        },
        {
          "output_type": "display_data",
          "data": {
            "text/plain": [
              "<PIL.Image.Image image mode=L size=240x108 at 0x7F6B43AB8810>"
            ],
            "image/png": "[encoded data removed]"
          },
          "metadata": {}
        },
        {
          "output_type": "stream",
          "name": "stdout",
          "text": [
            "in-built function foreground\n"
          ]
        },
        {
          "output_type": "display_data",
          "data": {
            "text/plain": [
              "<PIL.Image.Image image mode=L size=240x108 at 0x7F6B3E7781D0>"
            ],
            "image/png": "[encoded data removed]"
          },
          "metadata": {}
        },
        {
          "output_type": "stream",
          "name": "stdout",
          "text": [
            "our foreground\n"
          ]
        },
        {
          "output_type": "display_data",
          "data": {
            "text/plain": [
              "<PIL.Image.Image image mode=L size=240x108 at 0x7F6B3E778610>"
            ],
            "image/png": "[encoded data removed]"
          },
          "metadata": {}
        },
        {
          "output_type": "stream",
          "name": "stdout",
          "text": [
            "in-built function foreground\n"
          ]
        },
        {
          "output_type": "display_data",
          "data": {
            "text/plain": [
              "<PIL.Image.Image image mode=L size=240x108 at 0x7F6B427DC790>"
            ],
            "image/png": "[encoded data removed]"
          },
          "metadata": {}
        },
        {
          "output_type": "stream",
          "name": "stdout",
          "text": [
            "our foreground\n"
          ]
        },
        {
          "output_type": "display_data",
          "data": {
            "text/plain": [
              "<PIL.Image.Image image mode=L size=240x108 at 0x7F6B43AB8790>"
            ],
            "image/png": "[encoded data removed]"
          },
          "metadata": {}
        },
        {
          "output_type": "stream",
          "name": "stdout",
          "text": [
            "in-built function foreground\n"
          ]
        },
        {
          "output_type": "display_data",
          "data": {
            "text/plain": [
              "<PIL.Image.Image image mode=L size=240x108 at 0x7F6B417EE050>"
            ],
            "image/png": "[encoded data removed]"
          },
          "metadata": {}
        },
        {
          "output_type": "stream",
          "name": "stdout",
          "text": [
            "our foreground\n"
          ]
        },
        {
          "output_type": "display_data",
          "data": {
            "text/plain": [
              "<PIL.Image.Image image mode=L size=240x108 at 0x7F6B417EE050>"
            ],
            "image/png": "[encoded data removed]"
          },
          "metadata": {}
        },
        {
          "output_type": "stream",
          "name": "stdout",
          "text": [
            "in-built function foreground\n"
          ]
        },
        {
          "output_type": "display_data",
          "data": {
            "text/plain": [
              "<PIL.Image.Image image mode=L size=240x108 at 0x7F6B417EE050>"
            ],
            "image/png": "[encoded data removed]"
          },
          "metadata": {}
        },
        {
          "output_type": "stream",
          "name": "stdout",
          "text": [
            "our foreground\n"
          ]
        },
        {
          "output_type": "display_data",
          "data": {
            "text/plain": [
              "<PIL.Image.Image image mode=L size=240x108 at 0x7F6B43AB8790>"
            ],
            "image/png": "[encoded data removed]"
          },
          "metadata": {}
        },
        {
          "output_type": "stream",
          "name": "stdout",
          "text": [
            "in-built function foreground\n"
          ]
        },
        {
          "output_type": "display_data",
          "data": {
            "text/plain": [
              "<PIL.Image.Image image mode=L size=240x108 at 0x7F6B43ACD390>"
            ],
            "image/png": "[encoded data removed]"
          },
          "metadata": {}
        },
        {
          "output_type": "stream",
          "name": "stdout",
          "text": [
            "our foreground\n"
          ]
        },
        {
          "output_type": "display_data",
          "data": {
            "text/plain": [
              "<PIL.Image.Image image mode=L size=240x108 at 0x7F6B43ACD390>"
            ],
            "image/png": "[encoded data removed]"
          },
          "metadata": {}
        },
        {
          "output_type": "stream",
          "name": "stdout",
          "text": [
            "in-built function foreground\n"
          ]
        },
        {
          "output_type": "display_data",
          "data": {
            "text/plain": [
              "<PIL.Image.Image image mode=L size=240x108 at 0x7F6B43ACD390>"
            ],
            "image/png": "[encoded data removed]"
          },
          "metadata": {}
        },
        {
          "output_type": "stream",
          "name": "stdout",
          "text": [
            "our foreground\n"
          ]
        },
        {
          "output_type": "display_data",
          "data": {
            "text/plain": [
              "<PIL.Image.Image image mode=L size=240x108 at 0x7F6B427DC610>"
            ],
            "image/png": "[encoded data removed]"
          },
          "metadata": {}
        },
        {
          "output_type": "stream",
          "name": "stdout",
          "text": [
            "in-built function foreground\n"
          ]
        },
        {
          "output_type": "display_data",
          "data": {
            "text/plain": [
              "<PIL.Image.Image image mode=L size=240x108 at 0x7F6B427DC790>"
            ],
            "image/png": "[encoded data removed]"
          },
          "metadata": {}
        },
        {
          "output_type": "stream",
          "name": "stdout",
          "text": [
            "our foreground\n"
          ]
        },
        {
          "output_type": "display_data",
          "data": {
            "text/plain": [
              "<PIL.Image.Image image mode=L size=240x108 at 0x7F6B427DC9D0>"
            ],
            "image/png": "[encoded data removed]"
          },
          "metadata": {}
        },
        {
          "output_type": "stream",
          "name": "stdout",
          "text": [
            "in-built function foreground\n"
          ]
        },
        {
          "output_type": "display_data",
          "data": {
            "text/plain": [
              "<PIL.Image.Image image mode=L size=240x108 at 0x7F6B43AB87D0>"
            ],
            "image/png": "[encoded data removed]"
          },
          "metadata": {}
        },
        {
          "output_type": "stream",
          "name": "stdout",
          "text": [
            "our foreground\n"
          ]
        },
        {
          "output_type": "display_data",
          "data": {
            "text/plain": [
              "<PIL.Image.Image image mode=L size=240x108 at 0x7F6B3E77F610>"
            ],
            "image/png": "[encoded data removed]"
          },
          "metadata": {}
        },
        {
          "output_type": "stream",
          "name": "stdout",
          "text": [
            "in-built function foreground\n"
          ]
        },
        {
          "output_type": "display_data",
          "data": {
            "text/plain": [
              "<PIL.Image.Image image mode=L size=240x108 at 0x7F6B3F85B750>"
            ],
            "image/png": "[encoded data removed]"
          },
          "metadata": {}
        },
        {
          "output_type": "stream",
          "name": "stdout",
          "text": [
            "our foreground\n"
          ]
        },
        {
          "output_type": "display_data",
          "data": {
            "text/plain": [
              "<PIL.Image.Image image mode=L size=240x108 at 0x7F6B3EED57D0>"
            ],
            "image/png": "[encoded data removed]"
          },
          "metadata": {}
        },
        {
          "output_type": "stream",
          "name": "stdout",
          "text": [
            "in-built function foreground\n"
          ]
        },
        {
          "output_type": "display_data",
          "data": {
            "text/plain": [
              "<PIL.Image.Image image mode=L size=240x108 at 0x7F6B3E77F610>"
            ],
            "image/png": "[encoded data removed]"
          },
          "metadata": {}
        },
        {
          "output_type": "stream",
          "name": "stdout",
          "text": [
            "our foreground\n"
          ]
        },
        {
          "output_type": "display_data",
          "data": {
            "text/plain": [
              "<PIL.Image.Image image mode=L size=240x108 at 0x7F6B3F85B610>"
            ],
            "image/png": "[encoded data removed]"
          },
          "metadata": {}
        },
        {
          "output_type": "stream",
          "name": "stdout",
          "text": [
            "in-built function foreground\n"
          ]
        },
        {
          "output_type": "display_data",
          "data": {
            "text/plain": [
              "<PIL.Image.Image image mode=L size=240x108 at 0x7F6B3F85B610>"
            ],
            "image/png": "[encoded data removed]"
          },
          "metadata": {}
        },
        {
          "output_type": "stream",
          "name": "stdout",
          "text": [
            "our foreground\n"
          ]
        },
        {
          "output_type": "display_data",
          "data": {
            "text/plain": [
              "<PIL.Image.Image image mode=L size=240x108 at 0x7F6B43AB8790>"
            ],
            "image/png": "[encoded data removed]"
          },
          "metadata": {}
        },
        {
          "output_type": "stream",
          "name": "stdout",
          "text": [
            "in-built function foreground\n"
          ]
        },
        {
          "output_type": "display_data",
          "data": {
            "text/plain": [
              "<PIL.Image.Image image mode=L size=240x108 at 0x7F6B3F85B610>"
            ],
            "image/png": "[encoded data removed]"
          },
          "metadata": {}
        },
        {
          "output_type": "stream",
          "name": "stdout",
          "text": [
            "our foreground\n"
          ]
        },
        {
          "output_type": "display_data",
          "data": {
            "text/plain": [
              "<PIL.Image.Image image mode=L size=240x108 at 0x7F6B3E7781D0>"
            ],
            "image/png": "[encoded data removed]"
          },
          "metadata": {}
        },
        {
          "output_type": "stream",
          "name": "stdout",
          "text": [
            "in-built function foreground\n"
          ]
        },
        {
          "output_type": "display_data",
          "data": {
            "text/plain": [
              "<PIL.Image.Image image mode=L size=240x108 at 0x7F6B3F85B610>"
            ],
            "image/png": "[encoded data removed]"
          },
          "metadata": {}
        },
        {
          "output_type": "stream",
          "name": "stdout",
          "text": [
            "our foreground\n"
          ]
        },
        {
          "output_type": "display_data",
          "data": {
            "text/plain": [
              "<PIL.Image.Image image mode=L size=240x108 at 0x7F6B3F84D750>"
            ],
            "image/png": "[encoded data removed]"
          },
          "metadata": {}
        },
        {
          "output_type": "stream",
          "name": "stdout",
          "text": [
            "in-built function foreground\n"
          ]
        },
        {
          "output_type": "display_data",
          "data": {
            "text/plain": [
              "<PIL.Image.Image image mode=L size=240x108 at 0x7F6B3EEE8090>"
            ],
            "image/png": "[encoded data removed]"
          },
          "metadata": {}
        },
        {
          "output_type": "stream",
          "name": "stdout",
          "text": [
            "our foreground\n"
          ]
        },
        {
          "output_type": "display_data",
          "data": {
            "text/plain": [
              "<PIL.Image.Image image mode=L size=240x108 at 0x7F6B44057D10>"
            ],
            "image/png": "[encoded data removed]"
          },
          "metadata": {}
        },
        {
          "output_type": "stream",
          "name": "stdout",
          "text": [
            "in-built function foreground\n"
          ]
        },
        {
          "output_type": "display_data",
          "data": {
            "text/plain": [
              "<PIL.Image.Image image mode=L size=240x108 at 0x7F6B3EED57D0>"
            ],
            "image/png": "[encoded data removed]"
          },
          "metadata": {}
        },
        {
          "output_type": "stream",
          "name": "stdout",
          "text": [
            "our foreground\n"
          ]
        },
        {
          "output_type": "display_data",
          "data": {
            "text/plain": [
              "<PIL.Image.Image image mode=L size=240x108 at 0x7F6B3EED57D0>"
            ],
            "image/png": "[encoded data removed]"
          },
          "metadata": {}
        },
        {
          "output_type": "stream",
          "name": "stdout",
          "text": [
            "in-built function foreground\n"
          ]
        },
        {
          "output_type": "display_data",
          "data": {
            "text/plain": [
              "<PIL.Image.Image image mode=L size=240x108 at 0x7F6B43ACD390>"
            ],
            "image/png": "[encoded data removed]"
          },
          "metadata": {}
        },
        {
          "output_type": "stream",
          "name": "stdout",
          "text": [
            "our foreground\n"
          ]
        },
        {
          "output_type": "display_data",
          "data": {
            "text/plain": [
              "<PIL.Image.Image image mode=L size=240x108 at 0x7F6B43ACD390>"
            ],
            "image/png": "[encoded data removed]"
          },
          "metadata": {}
        },
        {
          "output_type": "stream",
          "name": "stdout",
          "text": [
            "in-built function foreground\n"
          ]
        },
        {
          "output_type": "display_data",
          "data": {
            "text/plain": [
              "<PIL.Image.Image image mode=L size=240x108 at 0x7F6B4400A390>"
            ],
            "image/png": "[encoded data removed]"
          },
          "metadata": {}
        },
        {
          "output_type": "stream",
          "name": "stdout",
          "text": [
            "our foreground\n"
          ]
        },
        {
          "output_type": "display_data",
          "data": {
            "text/plain": [
              "<PIL.Image.Image image mode=L size=240x108 at 0x7F6B43AB87D0>"
            ],
            "image/png": "[encoded data removed]"
          },
          "metadata": {}
        },
        {
          "output_type": "stream",
          "name": "stdout",
          "text": [
            "in-built function foreground\n"
          ]
        },
        {
          "output_type": "display_data",
          "data": {
            "text/plain": [
              "<PIL.Image.Image image mode=L size=240x108 at 0x7F6B417EE050>"
            ],
            "image/png": "[encoded data removed]"
          },
          "metadata": {}
        },
        {
          "output_type": "stream",
          "name": "stdout",
          "text": [
            "our foreground\n"
          ]
        },
        {
          "output_type": "display_data",
          "data": {
            "text/plain": [
              "<PIL.Image.Image image mode=L size=240x108 at 0x7F6B3EED57D0>"
            ],
            "image/png": "[encoded data removed]"
          },
          "metadata": {}
        },
        {
          "output_type": "stream",
          "name": "stdout",
          "text": [
            "in-built function foreground\n"
          ]
        },
        {
          "output_type": "display_data",
          "data": {
            "text/plain": [
              "<PIL.Image.Image image mode=L size=240x108 at 0x7F6B3F8480D0>"
            ],
            "image/png": "[encoded data removed]"
          },
          "metadata": {}
        },
        {
          "output_type": "stream",
          "name": "stdout",
          "text": [
            "our foreground\n"
          ]
        },
        {
          "output_type": "display_data",
          "data": {
            "text/plain": [
              "<PIL.Image.Image image mode=L size=240x108 at 0x7F6B3EEE2C90>"
            ],
            "image/png": "[encoded data removed]"
          },
          "metadata": {}
        },
        {
          "output_type": "stream",
          "name": "stdout",
          "text": [
            "in-built function foreground\n"
          ]
        },
        {
          "output_type": "display_data",
          "data": {
            "text/plain": [
              "<PIL.Image.Image image mode=L size=240x108 at 0x7F6B4400A390>"
            ],
            "image/png": "[encoded data removed]"
          },
          "metadata": {}
        },
        {
          "output_type": "stream",
          "name": "stdout",
          "text": [
            "our foreground\n"
          ]
        },
        {
          "output_type": "display_data",
          "data": {
            "text/plain": [
              "<PIL.Image.Image image mode=L size=240x108 at 0x7F6B3F85B750>"
            ],
            "image/png": "[encoded data removed]"
          },
          "metadata": {}
        },
        {
          "output_type": "stream",
          "name": "stdout",
          "text": [
            "in-built function foreground\n"
          ]
        },
        {
          "output_type": "display_data",
          "data": {
            "text/plain": [
              "<PIL.Image.Image image mode=L size=240x108 at 0x7F6B3EED57D0>"
            ],
            "image/png": "[encoded data removed]"
          },
          "metadata": {}
        },
        {
          "output_type": "stream",
          "name": "stdout",
          "text": [
            "our foreground\n"
          ]
        },
        {
          "output_type": "display_data",
          "data": {
            "text/plain": [
              "<PIL.Image.Image image mode=L size=240x108 at 0x7F6B43B46150>"
            ],
            "image/png": "[encoded data removed]"
          },
          "metadata": {}
        },
        {
          "output_type": "stream",
          "name": "stdout",
          "text": [
            "in-built function foreground\n"
          ]
        },
        {
          "output_type": "display_data",
          "data": {
            "text/plain": [
              "<PIL.Image.Image image mode=L size=240x108 at 0x7F6B3EEE8090>"
            ],
            "image/png": "[encoded data removed]"
          },
          "metadata": {}
        },
        {
          "output_type": "stream",
          "name": "stdout",
          "text": [
            "our foreground\n"
          ]
        },
        {
          "output_type": "display_data",
          "data": {
            "text/plain": [
              "<PIL.Image.Image image mode=L size=240x108 at 0x7F6B3E7781D0>"
            ],
            "image/png": "[encoded data removed]"
          },
          "metadata": {}
        },
        {
          "output_type": "stream",
          "name": "stdout",
          "text": [
            "in-built function foreground\n"
          ]
        },
        {
          "output_type": "display_data",
          "data": {
            "text/plain": [
              "<PIL.Image.Image image mode=L size=240x108 at 0x7F6B3E778610>"
            ],
            "image/png": "[encoded data removed]"
          },
          "metadata": {}
        },
        {
          "output_type": "stream",
          "name": "stdout",
          "text": [
            "our foreground\n"
          ]
        },
        {
          "output_type": "display_data",
          "data": {
            "text/plain": [
              "<PIL.Image.Image image mode=L size=240x108 at 0x7F6B3F85B610>"
            ],
            "image/png": "[encoded data removed]"
          },
          "metadata": {}
        },
        {
          "output_type": "stream",
          "name": "stdout",
          "text": [
            "in-built function foreground\n"
          ]
        },
        {
          "output_type": "display_data",
          "data": {
            "text/plain": [
              "<PIL.Image.Image image mode=L size=240x108 at 0x7F6B3E77F610>"
            ],
            "image/png": "[encoded data removed]"
          },
          "metadata": {}
        },
        {
          "output_type": "stream",
          "name": "stdout",
          "text": [
            "our foreground\n"
          ]
        },
        {
          "output_type": "display_data",
          "data": {
            "text/plain": [
              "<PIL.Image.Image image mode=L size=240x108 at 0x7F6B3E778610>"
            ],
            "image/png": "[encoded data removed]"
          },
          "metadata": {}
        },
        {
          "output_type": "stream",
          "name": "stdout",
          "text": [
            "in-built function foreground\n"
          ]
        },
        {
          "output_type": "display_data",
          "data": {
            "text/plain": [
              "<PIL.Image.Image image mode=L size=240x108 at 0x7F6B3F8480D0>"
            ],
            "image/png": "[encoded data removed]"
          },
          "metadata": {}
        },
        {
          "output_type": "stream",
          "name": "stdout",
          "text": [
            "our foreground\n"
          ]
        },
        {
          "output_type": "display_data",
          "data": {
            "text/plain": [
              "<PIL.Image.Image image mode=L size=240x108 at 0x7F6B3EEBB5D0>"
            ],
            "image/png": "[encoded data removed]"
          },
          "metadata": {}
        },
        {
          "output_type": "stream",
          "name": "stdout",
          "text": [
            "in-built function foreground\n"
          ]
        },
        {
          "output_type": "display_data",
          "data": {
            "text/plain": [
              "<PIL.Image.Image image mode=L size=240x108 at 0x7F6B3E77F5D0>"
            ],
            "image/png": "[encoded data removed]"
          },
          "metadata": {}
        },
        {
          "output_type": "stream",
          "name": "stdout",
          "text": [
            "our foreground\n"
          ]
        },
        {
          "output_type": "display_data",
          "data": {
            "text/plain": [
              "<PIL.Image.Image image mode=L size=240x108 at 0x7F6B3EEE8090>"
            ],
            "image/png": "[encoded data removed]"
          },
          "metadata": {}
        },
        {
          "output_type": "stream",
          "name": "stdout",
          "text": [
            "in-built function foreground\n"
          ]
        },
        {
          "output_type": "display_data",
          "data": {
            "text/plain": [
              "<PIL.Image.Image image mode=L size=240x108 at 0x7F6B3E77F610>"
            ],
            "image/png": "[encoded data removed]"
          },
          "metadata": {}
        },
        {
          "output_type": "stream",
          "name": "stdout",
          "text": [
            "our foreground\n"
          ]
        },
        {
          "output_type": "display_data",
          "data": {
            "text/plain": [
              "<PIL.Image.Image image mode=L size=240x108 at 0x7F6B43AB8E10>"
            ],
            "image/png": "[encoded data removed]"
          },
          "metadata": {}
        },
        {
          "output_type": "stream",
          "name": "stdout",
          "text": [
            "in-built function foreground\n"
          ]
        },
        {
          "output_type": "display_data",
          "data": {
            "text/plain": [
              "<PIL.Image.Image image mode=L size=240x108 at 0x7F6B3E7781D0>"
            ],
            "image/png": "[encoded data removed]"
          },
          "metadata": {}
        },
        {
          "output_type": "stream",
          "name": "stdout",
          "text": [
            "our foreground\n"
          ]
        },
        {
          "output_type": "display_data",
          "data": {
            "text/plain": [
              "<PIL.Image.Image image mode=L size=240x108 at 0x7F6B3F8480D0>"
            ],
            "image/png": "[encoded data removed]"
          },
          "metadata": {}
        },
        {
          "output_type": "stream",
          "name": "stdout",
          "text": [
            "in-built function foreground\n"
          ]
        },
        {
          "output_type": "display_data",
          "data": {
            "text/plain": [
              "<PIL.Image.Image image mode=L size=240x108 at 0x7F6B4400A390>"
            ],
            "image/png": "[encoded data removed]"
          },
          "metadata": {}
        },
        {
          "output_type": "stream",
          "name": "stdout",
          "text": [
            "our foreground\n"
          ]
        },
        {
          "output_type": "display_data",
          "data": {
            "text/plain": [
              "<PIL.Image.Image image mode=L size=240x108 at 0x7F6B3EEE2C90>"
            ],
            "image/png": "[encoded data removed]"
          },
          "metadata": {}
        },
        {
          "output_type": "stream",
          "name": "stdout",
          "text": [
            "in-built function foreground\n"
          ]
        },
        {
          "output_type": "display_data",
          "data": {
            "text/plain": [
              "<PIL.Image.Image image mode=L size=240x108 at 0x7F6B3E7781D0>"
            ],
            "image/png": "[encoded data removed]"
          },
          "metadata": {}
        },
        {
          "output_type": "stream",
          "name": "stdout",
          "text": [
            "our foreground\n"
          ]
        },
        {
          "output_type": "display_data",
          "data": {
            "text/plain": [
              "<PIL.Image.Image image mode=L size=240x108 at 0x7F6B3E77F5D0>"
            ],
            "image/png": "[encoded data removed]"
          },
          "metadata": {}
        },
        {
          "output_type": "stream",
          "name": "stdout",
          "text": [
            "in-built function foreground\n"
          ]
        },
        {
          "output_type": "display_data",
          "data": {
            "text/plain": [
              "<PIL.Image.Image image mode=L size=240x108 at 0x7F6B3F8480D0>"
            ],
            "image/png": "[encoded data removed]"
          },
          "metadata": {}
        },
        {
          "output_type": "stream",
          "name": "stdout",
          "text": [
            "our foreground\n"
          ]
        },
        {
          "output_type": "display_data",
          "data": {
            "text/plain": [
              "<PIL.Image.Image image mode=L size=240x108 at 0x7F6B3DDF57D0>"
            ],
            "image/png": "[encoded data removed]"
          },
          "metadata": {}
        },
        {
          "output_type": "stream",
          "name": "stdout",
          "text": [
            "in-built function foreground\n"
          ]
        },
        {
          "output_type": "display_data",
          "data": {
            "text/plain": [
              "<PIL.Image.Image image mode=L size=240x108 at 0x7F6B3EEBB5D0>"
            ],
            "image/png": "[encoded data removed]"
          },
          "metadata": {}
        },
        {
          "output_type": "stream",
          "name": "stdout",
          "text": [
            "our foreground\n"
          ]
        },
        {
          "output_type": "display_data",
          "data": {
            "text/plain": [
              "<PIL.Image.Image image mode=L size=240x108 at 0x7F6B3EEBB5D0>"
            ],
            "image/png": "[encoded data removed]"
          },
          "metadata": {}
        },
        {
          "output_type": "stream",
          "name": "stdout",
          "text": [
            "in-built function foreground\n"
          ]
        },
        {
          "output_type": "display_data",
          "data": {
            "text/plain": [
              "<PIL.Image.Image image mode=L size=240x108 at 0x7F6B43B46150>"
            ],
            "image/png": "[encoded data removed]"
          },
          "metadata": {}
        },
        {
          "output_type": "stream",
          "name": "stdout",
          "text": [
            "our foreground\n"
          ]
        },
        {
          "output_type": "display_data",
          "data": {
            "text/plain": [
              "<PIL.Image.Image image mode=L size=240x108 at 0x7F6B3EEE8090>"
            ],
            "image/png": "[encoded data removed]"
          },
          "metadata": {}
        },
        {
          "output_type": "stream",
          "name": "stdout",
          "text": [
            "in-built function foreground\n"
          ]
        },
        {
          "output_type": "display_data",
          "data": {
            "text/plain": [
              "<PIL.Image.Image image mode=L size=240x108 at 0x7F6B44057D10>"
            ],
            "image/png": "[encoded data removed]"
          },
          "metadata": {}
        },
        {
          "output_type": "stream",
          "name": "stdout",
          "text": [
            "our foreground\n"
          ]
        },
        {
          "output_type": "display_data",
          "data": {
            "text/plain": [
              "<PIL.Image.Image image mode=L size=240x108 at 0x7F6B3EEE2C90>"
            ],
            "image/png": "[encoded data removed]"
          },
          "metadata": {}
        },
        {
          "output_type": "stream",
          "name": "stdout",
          "text": [
            "in-built function foreground\n"
          ]
        },
        {
          "output_type": "display_data",
          "data": {
            "text/plain": [
              "<PIL.Image.Image image mode=L size=240x108 at 0x7F6B3EEE8090>"
            ],
            "image/png": "[encoded data removed]"
          },
          "metadata": {}
        },
        {
          "output_type": "stream",
          "name": "stdout",
          "text": [
            "our foreground\n"
          ]
        },
        {
          "output_type": "display_data",
          "data": {
            "text/plain": [
              "<PIL.Image.Image image mode=L size=240x108 at 0x7F6B43AB8E10>"
            ],
            "image/png": "[encoded data removed]"
          },
          "metadata": {}
        },
        {
          "output_type": "stream",
          "name": "stdout",
          "text": [
            "in-built function foreground\n"
          ]
        },
        {
          "output_type": "display_data",
          "data": {
            "text/plain": [
              "<PIL.Image.Image image mode=L size=240x108 at 0x7F6B3E77F610>"
            ],
            "image/png": "[encoded data removed]"
          },
          "metadata": {}
        },
        {
          "output_type": "stream",
          "name": "stdout",
          "text": [
            "our foreground\n"
          ]
        },
        {
          "output_type": "display_data",
          "data": {
            "text/plain": [
              "<PIL.Image.Image image mode=L size=240x108 at 0x7F6B3F84D750>"
            ],
            "image/png": "[encoded data removed]"
          },
          "metadata": {}
        },
        {
          "output_type": "stream",
          "name": "stdout",
          "text": [
            "in-built function foreground\n"
          ]
        },
        {
          "output_type": "display_data",
          "data": {
            "text/plain": [
              "<PIL.Image.Image image mode=L size=240x108 at 0x7F6B3F8480D0>"
            ],
            "image/png": "[encoded data removed]"
          },
          "metadata": {}
        },
        {
          "output_type": "stream",
          "name": "stdout",
          "text": [
            "our foreground\n"
          ]
        },
        {
          "output_type": "display_data",
          "data": {
            "text/plain": [
              "<PIL.Image.Image image mode=L size=240x108 at 0x7F6B3F8480D0>"
            ],
            "image/png": "[encoded data removed]"
          },
          "metadata": {}
        },
        {
          "output_type": "stream",
          "name": "stdout",
          "text": [
            "in-built function foreground\n"
          ]
        },
        {
          "output_type": "display_data",
          "data": {
            "text/plain": [
              "<PIL.Image.Image image mode=L size=240x108 at 0x7F6B3F84D750>"
            ],
            "image/png": "[encoded data removed]"
          },
          "metadata": {}
        },
        {
          "output_type": "stream",
          "name": "stdout",
          "text": [
            "our foreground\n"
          ]
        },
        {
          "output_type": "display_data",
          "data": {
            "text/plain": [
              "<PIL.Image.Image image mode=L size=240x108 at 0x7F6B427DC9D0>"
            ],
            "image/png": "[encoded data removed]"
          },
          "metadata": {}
        },
        {
          "output_type": "stream",
          "name": "stdout",
          "text": [
            "in-built function foreground\n"
          ]
        },
        {
          "output_type": "display_data",
          "data": {
            "text/plain": [
              "<PIL.Image.Image image mode=L size=240x108 at 0x7F6B3EEBB5D0>"
            ],
            "image/png": "[encoded data removed]"
          },
          "metadata": {}
        },
        {
          "output_type": "stream",
          "name": "stdout",
          "text": [
            "our foreground\n"
          ]
        },
        {
          "output_type": "display_data",
          "data": {
            "text/plain": [
              "<PIL.Image.Image image mode=L size=240x108 at 0x7F6B427DC750>"
            ],
            "image/png": "[encoded data removed]"
          },
          "metadata": {}
        },
        {
          "output_type": "stream",
          "name": "stdout",
          "text": [
            "in-built function foreground\n"
          ]
        },
        {
          "output_type": "display_data",
          "data": {
            "text/plain": [
              "<PIL.Image.Image image mode=L size=240x108 at 0x7F6B417EE050>"
            ],
            "image/png": "[encoded data removed]"
          },
          "metadata": {}
        },
        {
          "output_type": "stream",
          "name": "stdout",
          "text": [
            "our foreground\n"
          ]
        },
        {
          "output_type": "display_data",
          "data": {
            "text/plain": [
              "<PIL.Image.Image image mode=L size=240x108 at 0x7F6B417EE050>"
            ],
            "image/png": "[encoded data removed]"
          },
          "metadata": {}
        },
        {
          "output_type": "stream",
          "name": "stdout",
          "text": [
            "in-built function foreground\n"
          ]
        },
        {
          "output_type": "display_data",
          "data": {
            "text/plain": [
              "<PIL.Image.Image image mode=L size=240x108 at 0x7F6B3EEE8090>"
            ],
            "image/png": "[encoded data removed]"
          },
          "metadata": {}
        },
        {
          "output_type": "stream",
          "name": "stdout",
          "text": [
            "our foreground\n"
          ]
        },
        {
          "output_type": "display_data",
          "data": {
            "text/plain": [
              "<PIL.Image.Image image mode=L size=240x108 at 0x7F6B43ACD390>"
            ],
            "image/png": "[encoded data removed]"
          },
          "metadata": {}
        },
        {
          "output_type": "stream",
          "name": "stdout",
          "text": [
            "in-built function foreground\n"
          ]
        },
        {
          "output_type": "display_data",
          "data": {
            "text/plain": [
              "<PIL.Image.Image image mode=L size=240x108 at 0x7F6B3F85B610>"
            ],
            "image/png": "[encoded data removed]"
          },
          "metadata": {}
        },
        {
          "output_type": "stream",
          "name": "stdout",
          "text": [
            "our foreground\n"
          ]
        },
        {
          "output_type": "display_data",
          "data": {
            "text/plain": [
              "<PIL.Image.Image image mode=L size=240x108 at 0x7F6B417EE050>"
            ],
            "image/png": "[encoded data removed]"
          },
          "metadata": {}
        },
        {
          "output_type": "stream",
          "name": "stdout",
          "text": [
            "in-built function foreground\n"
          ]
        },
        {
          "output_type": "display_data",
          "data": {
            "text/plain": [
              "<PIL.Image.Image image mode=L size=240x108 at 0x7F6B3F85B610>"
            ],
            "image/png": "[encoded data removed]"
          },
          "metadata": {}
        },
        {
          "output_type": "stream",
          "name": "stdout",
          "text": [
            "our foreground\n"
          ]
        },
        {
          "output_type": "display_data",
          "data": {
            "text/plain": [
              "<PIL.Image.Image image mode=L size=240x108 at 0x7F6B43ACD390>"
            ],
            "image/png": "[encoded data removed]"
          },
          "metadata": {}
        },
        {
          "output_type": "stream",
          "name": "stdout",
          "text": [
            "in-built function foreground\n"
          ]
        },
        {
          "output_type": "display_data",
          "data": {
            "text/plain": [
              "<PIL.Image.Image image mode=L size=240x108 at 0x7F6B3E778610>"
            ],
            "image/png": "[encoded data removed]"
          },
          "metadata": {}
        },
        {
          "output_type": "stream",
          "name": "stdout",
          "text": [
            "our foreground\n"
          ]
        },
        {
          "output_type": "display_data",
          "data": {
            "text/plain": [
              "<PIL.Image.Image image mode=L size=240x108 at 0x7F6B3EEBB5D0>"
            ],
            "image/png": "[encoded data removed]"
          },
          "metadata": {}
        },
        {
          "output_type": "stream",
          "name": "stdout",
          "text": [
            "in-built function foreground\n"
          ]
        },
        {
          "output_type": "display_data",
          "data": {
            "text/plain": [
              "<PIL.Image.Image image mode=L size=240x108 at 0x7F6B3F85B610>"
            ],
            "image/png": "[encoded data removed]"
          },
          "metadata": {}
        },
        {
          "output_type": "stream",
          "name": "stdout",
          "text": [
            "our foreground\n"
          ]
        },
        {
          "output_type": "display_data",
          "data": {
            "text/plain": [
              "<PIL.Image.Image image mode=L size=240x108 at 0x7F6B3EEBB5D0>"
            ],
            "image/png": "[encoded data removed]"
          },
          "metadata": {}
        },
        {
          "output_type": "stream",
          "name": "stdout",
          "text": [
            "in-built function foreground\n"
          ]
        },
        {
          "output_type": "display_data",
          "data": {
            "text/plain": [
              "<PIL.Image.Image image mode=L size=240x108 at 0x7F6B3F85B610>"
            ],
            "image/png": "[encoded data removed]"
          },
          "metadata": {}
        },
        {
          "output_type": "stream",
          "name": "stdout",
          "text": [
            "our foreground\n"
          ]
        },
        {
          "output_type": "display_data",
          "data": {
            "text/plain": [
              "<PIL.Image.Image image mode=L size=240x108 at 0x7F6B3EEE8090>"
            ],
            "image/png": "[encoded data removed]"
          },
          "metadata": {}
        },
        {
          "output_type": "stream",
          "name": "stdout",
          "text": [
            "in-built function foreground\n"
          ]
        },
        {
          "output_type": "display_data",
          "data": {
            "text/plain": [
              "<PIL.Image.Image image mode=L size=240x108 at 0x7F6B43ACD390>"
            ],
            "image/png": "[encoded data removed]"
          },
          "metadata": {}
        },
        {
          "output_type": "stream",
          "name": "stdout",
          "text": [
            "our foreground\n"
          ]
        },
        {
          "output_type": "display_data",
          "data": {
            "text/plain": [
              "<PIL.Image.Image image mode=L size=240x108 at 0x7F6B3EEBB5D0>"
            ],
            "image/png": "[encoded data removed]"
          },
          "metadata": {}
        },
        {
          "output_type": "stream",
          "name": "stdout",
          "text": [
            "in-built function foreground\n"
          ]
        },
        {
          "output_type": "display_data",
          "data": {
            "text/plain": [
              "<PIL.Image.Image image mode=L size=240x108 at 0x7F6B3F85B610>"
            ],
            "image/png": "[encoded data removed]"
          },
          "metadata": {}
        }
      ]
    },
    {
      "cell_type": "code",
      "source": [
        "# Storing RMSE values in csv file\n",
        "x=[]\n",
        "for i in a:\n",
        "  x.append([i])\n",
        "import csv\n",
        "with open(\"MSE.csv\", \"w\", newline=\"\") as f:\n",
        "    writer = csv.writer(f)\n",
        "    writer.writerows(x)\n",
        "minimum=min(a)\n",
        "maximum=max(a)\n"
      ],
      "metadata": {
        "id": "i61cjfnx0vg9"
      },
      "execution_count": 20,
      "outputs": []
    },
    {
      "cell_type": "markdown",
      "source": [
        "Maximum and Minimum RMSE"
      ],
      "metadata": {
        "id": "iDNrrxyOMLV8"
      }
    },
    {
      "cell_type": "code",
      "source": [
        "print(\"Maximum MSE between two frames is: \" + str(maximum)) \n",
        "print(\"Minimum MSE between two frames is: \" + str(minimum))\n",
        "# It will change as the total number of frames change. \n",
        "# In the report, MSE is reported when all the video frames are taken(696).\n",
        "# Here, the result is only for 72 frames."
      ],
      "metadata": {
        "colab": {
          "base_uri": "https://localhost:8080/"
        },
        "id": "APn9sX8yFpIF",
        "outputId": "831997a2-352c-4f1d-a842-1e69ea9ad939"
      },
      "execution_count": 21,
      "outputs": [
        {
          "output_type": "stream",
          "name": "stdout",
          "text": [
            "Maximum MSE between two frames is: 74.70160651172168\n",
            "Minimum MSE between two frames is: 2.743363203563587\n"
          ]
        }
      ]
    },
    {
      "cell_type": "code",
      "source": [],
      "metadata": {
        "id": "VO_e4Wx5G74R"
      },
      "execution_count": 21,
      "outputs": []
    }
  ],
  "metadata": {
    "colab": {
      "collapsed_sections": [],
      "provenance": []
    },
    "kernelspec": {
      "display_name": "Python 3",
      "name": "python3"
    },
    "language_info": {
      "name": "python"
    }
  },
  "nbformat": 4,
  "nbformat_minor": 0
}